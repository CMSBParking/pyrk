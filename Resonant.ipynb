{
 "cells": [
  {
   "cell_type": "code",
   "execution_count": 1,
   "metadata": {},
   "outputs": [],
   "source": [
    "import awkward as awk\n",
    "import numpy as np\n",
    "import uproot\n",
    "from nanoframe import NanoFrame\n",
    "import os\n",
    "import particle\n",
    "import pandas as pd\n",
    "import uproot_methods"
   ]
  },
  {
   "cell_type": "code",
   "execution_count": 2,
   "metadata": {},
   "outputs": [],
   "source": [
    "branches = ['BToKEE_charge',\n",
    " 'BToKEE_chi2',\n",
    " 'BToKEE_fit_cos2D',\n",
    " 'BToKEE_fit_eta',\n",
    " 'BToKEE_fit_mass',\n",
    " 'BToKEE_fit_phi',\n",
    " 'BToKEE_fit_pt',\n",
    " 'BToKEE_kIdx',\n",
    " 'BToKEE_l1Idx',\n",
    " 'BToKEE_l2Idx',\n",
    " 'BToKEE_l_xy',\n",
    " 'BToKEE_l_xy_unc',\n",
    " 'BToKEE_mll_fullfit',\n",
    " 'BToKEE_mll_raw',\n",
    " 'BToKEE_mass',\n",
    " 'BToKEE_eta',\n",
    " 'BToKEE_phi',\n",
    " 'BToKEE_pt',\n",
    " 'BToKEE_svprob',\n",
    " 'Electron_isLowPt',\n",
    " 'Electron_isPF',\n",
    " 'Electron_eta',\n",
    " 'Electron_mass',\n",
    " 'Electron_mvaId',\n",
    " 'Electron_phi',\n",
    " 'Electron_pt',\n",
    " 'Electron_vz',\n",
    " 'HLT_Mu12_IP6_part0',\n",
    " 'HLT_Mu12_IP6_part1',\n",
    " 'HLT_Mu12_IP6_part2',\n",
    " 'HLT_Mu12_IP6_part3',\n",
    " 'HLT_Mu12_IP6_part4',\n",
    " 'HLT_Mu7_IP4_part0',\n",
    " 'HLT_Mu7_IP4_part1',\n",
    " 'HLT_Mu7_IP4_part2',\n",
    " 'HLT_Mu7_IP4_part3',\n",
    " 'HLT_Mu7_IP4_part4',\n",
    " 'HLT_Mu8_IP3_part0',\n",
    " 'HLT_Mu8_IP3_part1',\n",
    " 'HLT_Mu8_IP3_part2',\n",
    " 'HLT_Mu8_IP3_part3',\n",
    " 'HLT_Mu8_IP3_part4',\n",
    " 'HLT_Mu8_IP5_part0',\n",
    " 'HLT_Mu8_IP5_part1',\n",
    " 'HLT_Mu8_IP5_part2',\n",
    " 'HLT_Mu8_IP5_part3',\n",
    " 'HLT_Mu8_IP5_part4',\n",
    " 'HLT_Mu8_IP6_part0',\n",
    " 'HLT_Mu8_IP6_part1',\n",
    " 'HLT_Mu8_IP6_part2',\n",
    " 'HLT_Mu8_IP6_part3',\n",
    " 'HLT_Mu8_IP6_part4',\n",
    " 'HLT_Mu9_IP4_part0',\n",
    " 'HLT_Mu9_IP4_part1',\n",
    " 'HLT_Mu9_IP4_part2',\n",
    " 'HLT_Mu9_IP4_part3',\n",
    " 'HLT_Mu9_IP4_part4',\n",
    " 'HLT_Mu9_IP5_part0',\n",
    " 'HLT_Mu9_IP5_part1',\n",
    " 'HLT_Mu9_IP5_part2',\n",
    " 'HLT_Mu9_IP5_part3',\n",
    " 'HLT_Mu9_IP5_part4',\n",
    " 'HLT_Mu9_IP6_part0',\n",
    " 'HLT_Mu9_IP6_part1',\n",
    " 'HLT_Mu9_IP6_part2',\n",
    " 'HLT_Mu9_IP6_part3',\n",
    " 'HLT_Mu9_IP6_part4',\n",
    " 'Muon_pt',\n",
    " 'Muon_mass',\n",
    " 'Muon_eta',\n",
    " 'Muon_phi',\n",
    " 'Muon_pt',\n",
    " 'Muon_vz',\n",
    " 'Muon_isTriggering',\n",
    " 'ProbeTracks_DCASig',\n",
    " 'ProbeTracks_eta',\n",
    " 'ProbeTracks_mass',\n",
    " 'ProbeTracks_phi',\n",
    " 'ProbeTracks_pt',\n",
    " 'ProbeTracks_vz',\n",
    " 'nBToKEE',\n",
    " 'nElectron',\n",
    " 'nMuon',\n",
    " 'nProbeTracks']"
   ]
  },
  {
   "cell_type": "code",
   "execution_count": 3,
   "metadata": {},
   "outputs": [],
   "source": [
    "nf = NanoFrame(\n",
    "    '/eos/cms/store/group/cmst3/group/bpark/BParkingNANO_2019Sep12/ParkingBPH2/crab_data_Run2018B_part2/190912_183627/0000/BParkNANO_data_2019Sep12_1.root',\n",
    "    #branches = branches\n",
    ")"
   ]
  },
  {
   "cell_type": "code",
   "execution_count": 4,
   "metadata": {},
   "outputs": [],
   "source": [
    "# it = uproot.iterate(\n",
    "#     ['/eos/cms/store/cmst3/group/bpark/BParkingNANO_2019Sep10/ParkingBPH2/crab_data_Run2018D_part2/190910_082308/0001/BParkNANO_data_2019Sep10_1996.root'], \n",
    "#     'Events', branches=branches, entrysteps=10000, namedecode='ascii'\n",
    "# )\n",
    "# nf = NanoFrame(it.__next__())"
   ]
  },
  {
   "cell_type": "markdown",
   "metadata": {},
   "source": [
    "Load the needed collections, NanoFrame is just an empty shell until we call the collections"
   ]
  },
  {
   "cell_type": "code",
   "execution_count": 4,
   "metadata": {},
   "outputs": [],
   "source": [
    "evt = nf['event']"
   ]
  },
  {
   "cell_type": "code",
   "execution_count": 5,
   "metadata": {},
   "outputs": [],
   "source": [
    "muons = nf['Muon']"
   ]
  },
  {
   "cell_type": "code",
   "execution_count": 6,
   "metadata": {},
   "outputs": [],
   "source": [
    "electrons = nf['Electron']"
   ]
  },
  {
   "cell_type": "code",
   "execution_count": 7,
   "metadata": {},
   "outputs": [],
   "source": [
    "tracks = nf['ProbeTracks']"
   ]
  },
  {
   "cell_type": "code",
   "execution_count": 8,
   "metadata": {},
   "outputs": [],
   "source": [
    "hlt = nf['HLT']"
   ]
  },
  {
   "cell_type": "code",
   "execution_count": 9,
   "metadata": {},
   "outputs": [],
   "source": [
    "bcands = nf['BToKEE']"
   ]
  },
  {
   "cell_type": "code",
   "execution_count": 14,
   "metadata": {},
   "outputs": [],
   "source": [
    "right_evt = (evt == 1146968230)"
   ]
  },
  {
   "cell_type": "markdown",
   "metadata": {},
   "source": [
    "Attach the objects to the candidates"
   ]
  },
  {
   "cell_type": "code",
   "execution_count": 12,
   "metadata": {},
   "outputs": [],
   "source": [
    "bcands['e1'] = electrons[bcands['l1Idx']]\n",
    "bcands['e2'] = electrons[bcands['l2Idx']]\n",
    "bcands['k'] = tracks[bcands['kIdx']]\n",
    "bcands['p4fit'] = uproot_methods.TLorentzVectorArray.from_ptetaphim(\n",
    "    bcands['fit_pt'], bcands['fit_eta'], bcands['fit_phi'], bcands['fit_mass']\n",
    ")"
   ]
  },
  {
   "cell_type": "markdown",
   "metadata": {},
   "source": [
    "Attach the trigger muon, identified as the closest in dz to the lead electron"
   ]
  },
  {
   "cell_type": "code",
   "execution_count": 37,
   "metadata": {},
   "outputs": [],
   "source": [
    "muon_trg_mask = (muons.isTriggering == 1)\n",
    "for path, pt_thr in [('Mu9_IP5', 9), ('Mu10p5_IP3p5', 10), ('Mu9_IP6', 9),\n",
    "    ('Mu8p5_IP3p5', 8.5), ('Mu9_IP4', 9), ('Mu8_IP5', 8), ('Mu8_IP6', 8),\n",
    "    ('Mu7_IP4', 7), ('Mu12_IP6', 12), ('Mu8_IP3', 8)]:\n",
    "    if not any(path in i for i in hlt.columns): # the trigger is not here\n",
    "        continue\n",
    "    else:\n",
    "        #merge all the parts and compute an or\n",
    "        hlt_fired = np.hstack(\n",
    "            [hlt[i].reshape((hlt[i].shape[0], 1)) for i in hlt.columns if path in i]\n",
    "        ).any(axis = 1)\n",
    "        muon_trg_mask = muon_trg_mask | (hlt_fired & (muons.p4.pt > pt_thr))\n",
    "\n",
    "one_trg_muon = (muon_trg_mask.sum() != 0)"
   ]
  },
  {
   "cell_type": "code",
   "execution_count": null,
   "metadata": {},
   "outputs": [],
   "source": []
  },
  {
   "cell_type": "code",
   "execution_count": 38,
   "metadata": {},
   "outputs": [],
   "source": [
    "trig_mu = muons[muon_trg_mask][one_trg_muon]\n",
    "bcands = bcands[one_trg_muon]"
   ]
  },
  {
   "cell_type": "code",
   "execution_count": 39,
   "metadata": {},
   "outputs": [],
   "source": [
    "e1z, muz = bcands.e1.vz.cross(trig_mu.vz, nested = True).unzip()"
   ]
  },
  {
   "cell_type": "code",
   "execution_count": 40,
   "metadata": {},
   "outputs": [],
   "source": [
    "closest_mu = np.abs(e1z - muz).argmin().flatten(axis = 1)"
   ]
  },
  {
   "cell_type": "code",
   "execution_count": 41,
   "metadata": {},
   "outputs": [],
   "source": [
    "bcands['trg_mu'] = trig_mu[closest_mu]"
   ]
  },
  {
   "cell_type": "markdown",
   "metadata": {},
   "source": [
    "Candidate selection, cut-based for the moment"
   ]
  },
  {
   "cell_type": "code",
   "execution_count": 13,
   "metadata": {},
   "outputs": [
    {
     "name": "stderr",
     "output_type": "stream",
     "text": [
      "/afs/cern.ch/work/m/mverzett/miniconda3/envs/pyrk/lib/python3.7/site-packages/awkward/array/jagged.py:1031: RuntimeWarning: divide by zero encountered in true_divide\n",
      "  result = getattr(ufunc, method)(*inputs, **kwargs)\n"
     ]
    }
   ],
   "source": [
    "b_selection = (bcands.k.p4.pt > 3) & (bcands.k.DCASig > 2) & (bcands.p4.pt > 3) & \\\n",
    "              (bcands.svprob > 0.1) & (bcands.cos2D > 0.999) & \\\n",
    "              ((bcands.l_xy / bcands.l_xy_unc) > 6)"
   ]
  },
  {
   "cell_type": "code",
   "execution_count": 16,
   "metadata": {},
   "outputs": [
    {
     "data": {
      "text/plain": [
       "array([ True])"
      ]
     },
     "execution_count": 16,
     "metadata": {},
     "output_type": "execute_result"
    }
   ],
   "source": [
    "b_selection[right_evt].any()"
   ]
  },
  {
   "cell_type": "code",
   "execution_count": 17,
   "metadata": {},
   "outputs": [],
   "source": [
    "b_pf = bcands.e1.isPF & bcands.e2.isPF\n",
    "b_lpt = bcands.e1.isLowPt & bcands.e2.isLowPt & (bcands.e1.mvaId > 3.96) & (bcands.e2.mvaId > 3.96)"
   ]
  },
  {
   "cell_type": "code",
   "execution_count": 38,
   "metadata": {},
   "outputs": [],
   "source": [
    "svpr = (bcands.svprob > 0.299063) & (bcands.svprob < 0.299363)"
   ]
  },
  {
   "cell_type": "code",
   "execution_count": 48,
   "metadata": {},
   "outputs": [],
   "source": [
    "sel = bcands[right_evt][svpr[right_evt]]"
   ]
  },
  {
   "cell_type": "code",
   "execution_count": 53,
   "metadata": {},
   "outputs": [
    {
     "name": "stdout",
     "output_type": "stream",
     "text": [
      "<Row 202315>\n",
      "k pt: 4.05078125\n",
      "k DCA: 8.5390625\n",
      "B pt: 17.585369110107422\n",
      "SV prob: 0.29916275\n",
      "fit_Cos2D: 0.99849975 False\n",
      "cos2D: 0.9999188 True\n",
      "l_xy sig: 685.94275\n",
      "e1 PF: True e2 PF: True\n",
      "e1 LPT: False e2 LPT: False\n",
      "e1 MVA: 20.0 e2 MVA: 20.0\n",
      "e1 Seed: 20.0 e2 Seed: 20.0\n",
      "\n",
      "\n",
      "\n",
      "<Row 202319>\n",
      "k pt: 4.05078125\n",
      "k DCA: 8.5390625\n",
      "B pt: 17.585369110107422\n",
      "SV prob: 0.29916275\n",
      "fit_Cos2D: 0.99849975 False\n",
      "cos2D: 0.99908334 True\n",
      "l_xy sig: 685.94275\n",
      "e1 PF: False e2 PF: True\n",
      "e1 LPT: True e2 LPT: False\n",
      "e1 MVA: 4.4662423 e2 MVA: 20.0\n",
      "e1 Seed: 3.0745869 e2 Seed: 20.0\n",
      "\n",
      "\n",
      "\n"
     ]
    }
   ],
   "source": [
    "for B in sel[0]:\n",
    "    print(B)\n",
    "    print('k pt:', B.k.p4.pt)\n",
    "    print('k DCA:', B.k.DCASig)\n",
    "    print('B pt:', B.p4fit.pt)\n",
    "    print('SV prob:', B.svprob)\n",
    "    print('fit_Cos2D:', B.fit_cos2D, B.fit_cos2D > 0.999)\n",
    "    print('cos2D:', B.cos2D, B.cos2D > 0.999)    \n",
    "    print('l_xy sig:', (B.l_xy / B.l_xy_unc))\n",
    "    print('e1 PF:', B.e1.isPF, 'e2 PF:', B.e2.isPF)\n",
    "    print('e1 LPT:', B.e1.isLowPt, 'e2 LPT:', B.e2.isLowPt)\n",
    "    print('e1 MVA:', B.e1.mvaId, 'e2 MVA:', B.e2.mvaId)\n",
    "    print('e1 Seed:', B.e1.unBiased, 'e2 Seed:', B.e2.unBiased)\n",
    "    print('\\n\\n')"
   ]
  },
  {
   "cell_type": "code",
   "execution_count": 55,
   "metadata": {},
   "outputs": [
    {
     "data": {
      "text/plain": [
       "['BToKMuMu_fit_phi',\n",
       " 'TriggerMuon_trgMuonIndex',\n",
       " 'ProbeTracks_eta',\n",
       " 'SV_pt',\n",
       " 'Electron_dxy',\n",
       " 'TrigObj_id',\n",
       " 'ProbeTracks_vx',\n",
       " 'Electron_phi',\n",
       " 'Electron_vy',\n",
       " 'Muon_triggerIdLoose',\n",
       " 'nTriggerMuon',\n",
       " 'PV_x',\n",
       " 'Muon_pdgId',\n",
       " 'TrigObj_l1iso',\n",
       " 'BToKMuMu_mll_raw',\n",
       " 'Muon_pfRelIso03_all',\n",
       " 'HLT_Mu10p5_IP3p5',\n",
       " 'TrigObj_l2pt',\n",
       " 'BToKMuMu_mll_llfit',\n",
       " 'Electron_isPF',\n",
       " 'Muon_mediumId',\n",
       " 'BToKEE_l2Idx',\n",
       " 'Muon_dxyErr',\n",
       " 'Muon_isTriggering',\n",
       " 'L1_SingleMu22',\n",
       " 'BToKMuMu_fit_eta',\n",
       " 'Electron_unBiased',\n",
       " 'SV_dlen',\n",
       " 'fixedGridRhoFastjetAll',\n",
       " 'BToKEE_pdgId',\n",
       " 'ProbeTracks_isLostTrk',\n",
       " 'Muon_phi',\n",
       " 'BToKMuMu_mll_fullfit',\n",
       " 'run',\n",
       " 'Muon_ip3d',\n",
       " 'ProbeTracks_isMatchedToSoftMuon',\n",
       " 'SV_dlenSig',\n",
       " 'TriggerMuon_pt',\n",
       " 'ProbeTracks_charge',\n",
       " 'BToKMuMu_l1Idx',\n",
       " 'TriggerMuon_pdgId',\n",
       " 'Muon_pfIsoId',\n",
       " 'BToKEE_charge',\n",
       " 'BToKEE_l_xy_unc',\n",
       " 'BToKEE_mll_fullfit',\n",
       " 'ProbeTracks_vy',\n",
       " 'BToKMuMu_minDR',\n",
       " 'BToKEE_mass',\n",
       " 'HLT_Mu9_IP4',\n",
       " 'fixedGridRhoFastjetCentralChargedPileUp',\n",
       " 'HLT_Mu8p5_IP3p5',\n",
       " 'TriggerMuon_charge',\n",
       " 'BToKMuMu_charge',\n",
       " 'SV_ndof',\n",
       " 'L1_SingleMu9er1p5',\n",
       " 'BToKMuMu_cos2D',\n",
       " 'BToKMuMu_pt',\n",
       " 'BToKEE_l_xy',\n",
       " 'nTrigObj',\n",
       " 'ProbeTracks_dz',\n",
       " 'PV_y',\n",
       " 'Electron_dz',\n",
       " 'BToKMuMu_fit_cos2D',\n",
       " 'L1_SingleMu12er1p5',\n",
       " 'Electron_vx',\n",
       " 'Muon_tightId',\n",
       " 'Electron_eta',\n",
       " 'L1_SingleMu10er1p5',\n",
       " 'BToKEE_svprob',\n",
       " 'HLT_Mu9_IP6',\n",
       " 'Muon_tkIsoId',\n",
       " 'Muon_ptErr',\n",
       " 'ProbeTracks_vz',\n",
       " 'BToKEE_pt',\n",
       " 'SV_x',\n",
       " 'BToKEE_minDR',\n",
       " 'BToKMuMu_fit_pt',\n",
       " 'Muon_vx',\n",
       " 'SV_mass',\n",
       " 'Electron_r9',\n",
       " 'Electron_ptBiased',\n",
       " 'Muon_mvaId',\n",
       " 'Electron_isLowPt',\n",
       " 'HLT_Mu9_IP5',\n",
       " 'Muon_mass',\n",
       " 'BToKEE_eta',\n",
       " 'Electron_dxyErr',\n",
       " 'nProbeTracks',\n",
       " 'TrigObj_l1charge',\n",
       " 'BToKEE_kIdx',\n",
       " 'Electron_convVeto',\n",
       " 'Muon_dxy',\n",
       " 'Muon_tightCharge',\n",
       " 'Muon_pfRelIso04_all',\n",
       " 'TriggerMuon_mass',\n",
       " 'TrigObj_eta',\n",
       " 'Electron_sip3d',\n",
       " 'fixedGridRhoFastjetCentral',\n",
       " 'SV_y',\n",
       " 'PV_npvs',\n",
       " 'BToKEE_fit_eta',\n",
       " 'Muon_highPtId',\n",
       " 'Muon_vz',\n",
       " 'Muon_nStations',\n",
       " 'BToKEE_cos2D',\n",
       " 'Muon_miniIsoId',\n",
       " 'BToKEE_fit_mass',\n",
       " 'Muon_dz',\n",
       " 'ProbeTracks_isMatchedToEle',\n",
       " 'ProbeTracks_pt',\n",
       " 'PV_z',\n",
       " 'BToKEE_fit_phi',\n",
       " 'TrigObj_l1pt',\n",
       " 'ProbeTracks_pdgId',\n",
       " 'Electron_charge',\n",
       " 'BToKEE_phi',\n",
       " 'BToKMuMu_l_xy',\n",
       " 'Electron_mass',\n",
       " 'SV_eta',\n",
       " 'SV_phi',\n",
       " 'Electron_hoe',\n",
       " 'TrigObj_l1pt_2',\n",
       " 'Muon_charge',\n",
       " 'nOtherPV',\n",
       " 'PV_score',\n",
       " 'BToKEE_maxDR',\n",
       " 'Muon_inTimeMuon',\n",
       " 'SV_chi2',\n",
       " 'luminosityBlock',\n",
       " 'Electron_sieie',\n",
       " 'BToKEE_chi2',\n",
       " 'Muon_pt',\n",
       " 'fixedGridRhoFastjetCentralNeutral',\n",
       " 'Muon_dzErr',\n",
       " 'ProbeTracks_mass',\n",
       " 'Electron_isPFoverlap',\n",
       " 'Electron_mvaId',\n",
       " 'Electron_pdgId',\n",
       " 'PV_npvsGood',\n",
       " 'BToKMuMu_eta',\n",
       " 'BToKMuMu_svprob',\n",
       " 'HLT_Mu7_IP4',\n",
       " 'BToKMuMu_l_xy_unc',\n",
       " 'BToKMuMu_mass',\n",
       " 'nBToKMuMu',\n",
       " 'Electron_lostHits',\n",
       " 'Muon_segmentComp',\n",
       " 'ProbeTracks_dxy',\n",
       " 'HLT_Mu8_IP5',\n",
       " 'Muon_softId',\n",
       " 'L1_SingleMu7er1p5',\n",
       " 'Electron_vz',\n",
       " 'TrigObj_phi',\n",
       " 'BToKMuMu_kIdx',\n",
       " 'BToKEE_fit_cos2D',\n",
       " 'Electron_fBrem',\n",
       " 'ProbeTracks_isMatchedToMuon',\n",
       " 'ProbeTracks_isPacked',\n",
       " 'ProbeTracks_isMatchedToMediumMuon',\n",
       " 'BToKEE_l1Idx',\n",
       " 'BToKMuMu_maxDR',\n",
       " 'nSV',\n",
       " 'nElectron',\n",
       " 'Electron_deltaEtaSC',\n",
       " 'Electron_dzErr',\n",
       " 'TriggerMuon_vz',\n",
       " 'BToKMuMu_phi',\n",
       " 'ProbeTracks_dzS',\n",
       " 'BToKMuMu_l2Idx',\n",
       " 'BToKMuMu_pdgId',\n",
       " 'event',\n",
       " 'PV_ndof',\n",
       " 'BToKMuMu_chi2',\n",
       " 'Muon_eta',\n",
       " 'Muon_softMvaId',\n",
       " 'Muon_multiIsoId',\n",
       " 'Electron_pt',\n",
       " 'BToKEE_fit_pt',\n",
       " 'BToKEE_mll_raw',\n",
       " 'ProbeTracks_dxyS',\n",
       " 'Muon_sip3d',\n",
       " 'HLT_Mu12_IP6',\n",
       " 'Muon_isPFcand',\n",
       " 'ProbeTracks_DCASig',\n",
       " 'TrigObj_pt',\n",
       " 'ProbeTracks_phi',\n",
       " 'SV_z',\n",
       " 'BToKEE_mll_llfit',\n",
       " 'TriggerMuon_eta',\n",
       " 'ProbeTracks_isMatchedToLooseMuon',\n",
       " 'Electron_tightCharge',\n",
       " 'Muon_isGlobal',\n",
       " 'fixedGridRhoFastjetCentralCalo',\n",
       " 'nBToKEE',\n",
       " 'TriggerMuon_vx',\n",
       " 'BToKMuMu_fit_mass',\n",
       " 'HLT_Mu8_IP6',\n",
       " 'nMuon',\n",
       " 'OtherPV_z',\n",
       " 'TrigObj_filterBits',\n",
       " 'HLT_Mu8_IP3',\n",
       " 'Muon_mediumPromptId',\n",
       " 'Muon_vy',\n",
       " 'TriggerMuon_vy',\n",
       " 'TriggerMuon_phi',\n",
       " 'Electron_ip3d',\n",
       " 'PV_chi2',\n",
       " 'L1_SingleMu8er1p5',\n",
       " 'Muon_pfRelIso03_chg',\n",
       " 'Muon_isTracker',\n",
       " 'SV_pAngle']"
      ]
     },
     "execution_count": 55,
     "metadata": {},
     "output_type": "execute_result"
    }
   ],
   "source": [
    "nf.keys"
   ]
  },
  {
   "cell_type": "code",
   "execution_count": null,
   "metadata": {},
   "outputs": [],
   "source": []
  },
  {
   "cell_type": "code",
   "execution_count": null,
   "metadata": {},
   "outputs": [],
   "source": []
  },
  {
   "cell_type": "code",
   "execution_count": 29,
   "metadata": {},
   "outputs": [
    {
     "data": {
      "text/plain": [
       "['dxy',\n",
       " 'vy',\n",
       " 'isPF',\n",
       " 'unBiased',\n",
       " 'dz',\n",
       " 'vx',\n",
       " 'r9',\n",
       " 'ptBiased',\n",
       " 'isLowPt',\n",
       " 'dxyErr',\n",
       " 'convVeto',\n",
       " 'sip3d',\n",
       " 'charge',\n",
       " 'hoe',\n",
       " 'sieie',\n",
       " 'isPFoverlap',\n",
       " 'mvaId',\n",
       " 'pdgId',\n",
       " 'lostHits',\n",
       " 'vz',\n",
       " 'fBrem',\n",
       " 'deltaEtaSC',\n",
       " 'dzErr',\n",
       " 'tightCharge',\n",
       " 'ip3d',\n",
       " 'p4',\n",
       " '__fast_pt',\n",
       " '__fast_eta',\n",
       " '__fast_phi',\n",
       " '__fast_mass']"
      ]
     },
     "execution_count": 29,
     "metadata": {},
     "output_type": "execute_result"
    }
   ],
   "source": [
    "electrons.columns"
   ]
  },
  {
   "cell_type": "code",
   "execution_count": 44,
   "metadata": {},
   "outputs": [],
   "source": [
    "best_pf_cand = bcands[b_selection & b_pf].svprob.argmax()\n",
    "bcands_pf = (bcands[b_selection & b_pf][best_pf_cand]).flatten()"
   ]
  },
  {
   "cell_type": "code",
   "execution_count": 45,
   "metadata": {},
   "outputs": [],
   "source": [
    "best_lpt_cand = bcands[b_selection & b_lpt].svprob.argmax()\n",
    "bcands_lpt = (bcands[b_selection & b_lpt][best_lpt_cand]).flatten()"
   ]
  },
  {
   "cell_type": "code",
   "execution_count": 46,
   "metadata": {},
   "outputs": [],
   "source": [
    "dfs = {\n",
    "    'pf' : pd.DataFrame(),\n",
    "    'lpt' : pd.DataFrame(),\n",
    "}"
   ]
  },
  {
   "cell_type": "code",
   "execution_count": 47,
   "metadata": {},
   "outputs": [],
   "source": [
    "for name, tab, sel in [('pf', bcands_pf, b_selection & b_pf), ('lpt', bcands_lpt, b_selection & b_lpt)]:\n",
    "    df = dfs[name]\n",
    "    df['e1pt'] = tab.e1.p4.pt\n",
    "    df['e2pt'] = tab.e2.p4.pt\n",
    "    df['kpt'] = tab.k.p4.pt\n",
    "    df['kDCA'] = tab.k.DCASig\n",
    "    df['Bcharge'] = tab.charge\n",
    "    df['Bpt'] = tab.p4fit.pt\n",
    "    df['Beta'] = tab.p4fit.eta\n",
    "    df['Bsvprob'] = tab.e2.p4.pt\n",
    "    df['Bcos2D'] = tab.fit_cos2D\n",
    "    df['Blxy_sig'] = (tab.l_xy / tab.l_xy_unc)\n",
    "    df['Bmll'] = tab.mll_fullfit\n",
    "    df['Bmll_raw'] = tab.mll_raw\n",
    "    df['Bmass'] = tab.fit_mass\n",
    "    df['Bmass_raw'] = tab.p4.mass\n",
    "    df['nB'] = sel.sum()[sel.sum() != 0]"
   ]
  },
  {
   "cell_type": "code",
   "execution_count": 48,
   "metadata": {},
   "outputs": [],
   "source": [
    "dfs['lpt'].to_hdf('out_data.h5', 'lpt', mode = 'a')\n",
    "dfs['pf'].to_hdf('out_data.h5', 'pf', mode = 'a')"
   ]
  },
  {
   "cell_type": "code",
   "execution_count": 23,
   "metadata": {},
   "outputs": [
    {
     "data": {
      "text/plain": [
       "(74, 14)"
      ]
     },
     "execution_count": 23,
     "metadata": {},
     "output_type": "execute_result"
    }
   ],
   "source": [
    "pd.concat((dfs['lpt'], dfs['pf'])).shape"
   ]
  },
  {
   "cell_type": "code",
   "execution_count": 50,
   "metadata": {},
   "outputs": [
    {
     "data": {
      "text/plain": [
       "array([0., 0., 0., 0., 0., 0., 0., 0., 0., 0., 0., 0., 0., 0., 0., 0., 0.,\n",
       "       0., 0., 0., 0., 0., 0., 0., 0., 0., 0., 0., 0., 0., 0., 0., 0., 0.,\n",
       "       0., 0., 0., 0., 0., 0., 0., 0., 0., 0., 0., 0., 0., 0., 0., 0., 0.,\n",
       "       0., 0., 0., 0., 0., 0., 0., 0., 0., 0., 0., 0., 0., 0., 0., 0., 0.,\n",
       "       0., 0., 0., 0., 0.], dtype=float32)"
      ]
     },
     "execution_count": 50,
     "metadata": {},
     "output_type": "execute_result"
    }
   ],
   "source": [
    "tab.p4fit.mass - tab.fit_mass"
   ]
  },
  {
   "cell_type": "code",
   "execution_count": 51,
   "metadata": {},
   "outputs": [
    {
     "data": {
      "text/plain": [
       "['fit_mass',\n",
       " 'fit_eta',\n",
       " 'fit_pt',\n",
       " 'kIdx',\n",
       " 'charge',\n",
       " 'chi2',\n",
       " 'fit_phi',\n",
       " 'l_xy',\n",
       " 'l_xy_unc',\n",
       " 'mll_fullfit',\n",
       " 'l1Idx',\n",
       " 'mll_raw',\n",
       " 'l2Idx',\n",
       " 'fit_cos2D',\n",
       " 'svprob',\n",
       " 'p4',\n",
       " '__fast_pt',\n",
       " '__fast_eta',\n",
       " '__fast_phi',\n",
       " '__fast_mass',\n",
       " 'e1',\n",
       " 'e2',\n",
       " 'k',\n",
       " 'p4fit',\n",
       " 'trg_mu']"
      ]
     },
     "execution_count": 51,
     "metadata": {},
     "output_type": "execute_result"
    }
   ],
   "source": [
    "tab.columns"
   ]
  },
  {
   "cell_type": "code",
   "execution_count": null,
   "metadata": {},
   "outputs": [],
   "source": []
  }
 ],
 "metadata": {
  "kernelspec": {
   "display_name": "Python 3",
   "language": "python",
   "name": "python3"
  },
  "language_info": {
   "codemirror_mode": {
    "name": "ipython",
    "version": 3
   },
   "file_extension": ".py",
   "mimetype": "text/x-python",
   "name": "python",
   "nbconvert_exporter": "python",
   "pygments_lexer": "ipython3",
   "version": "3.7.4"
  }
 },
 "nbformat": 4,
 "nbformat_minor": 2
}
